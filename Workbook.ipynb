{
 "cells": [
  {
   "cell_type": "code",
   "execution_count": 28,
   "id": "d8a340e7-63fd-4af2-ae27-4fc27897e7fd",
   "metadata": {
    "execution": {
     "iopub.execute_input": "2023-02-08T15:56:35.091276Z",
     "iopub.status.busy": "2023-02-08T15:56:35.090940Z",
     "iopub.status.idle": "2023-02-08T15:56:35.112693Z",
     "shell.execute_reply": "2023-02-08T15:56:35.111845Z",
     "shell.execute_reply.started": "2023-02-08T15:56:35.091247Z"
    },
    "tags": []
   },
   "outputs": [],
   "source": [
    "x = \"\"\"\n",
    "-Netherlands\n",
    "Hospitality Management School of The Hague\n",
    "University of Amsterdam (Master of Business Administration ; Faculty of social sciences)\n",
    "University of Gröningen (Media and Culture)\n",
    "University of Rotterdam (IBA International Commerce)\n",
    "-Switzerland\n",
    "Ecole Polytechnique Fédérale de Lausanne (EPFL)\n",
    "Ecole hôtelière de Lausanne (EHL)\n",
    "Eidgenössische Technische Hochschule Zürich (ETH)\n",
    "-Belgium\n",
    "Université de Louvain, Faculty of Sciences\n",
    "Université Libre, Ecole polytechnique (Engineering), Bruxelles\n",
    "University of Mechelen (Applied Sciences)\n",
    "-Italy\n",
    "Università Cattolica del Sacro Cuore Medicine and Surgery program (Roma)\n",
    "LUISS Guido Carli (Roma)\n",
    "Bocconi School of Management (Milano)\n",
    "-Germany\n",
    "HTW Berlin (International Business)\n",
    "München Universität (Double bachelor in Law)\n",
    "-Japan\n",
    "Waseda University, International Liberal Studies (Tokyo)\n",
    "Keio University, Faculty of Environment (Tokyo)\n",
    "Temple University, International Liberal Studies (Tokyo)\n",
    "Musashino Art University\n",
    "-Canada\n",
    "Mc Gill University, Faculty of Liberal Arts ; Desautels Faculty of Management ; Faculty of Engineering (Montréal)\n",
    "Concordia University, Business School John Molson (Montréal)\n",
    "Université de Montréal, Political Studies, School of engineering (UDEM)\n",
    "University of British Columbia (Vancouver), Business School\n",
    "University of Toronto, Mathematics and Statistics\n",
    "-United States of America\n",
    "University of California, Faculty of Biology (Irvine)\n",
    "Middlebury College (Vermont)\n",
    "\"\"\"\n",
    "x = x.replace(\"’\", \"'\")\n",
    "x = x.strip(\"\\n\")"
   ]
  },
  {
   "cell_type": "code",
   "execution_count": 32,
   "id": "45e8ea45-a9c9-440c-9ee5-03ab6f7fb7e8",
   "metadata": {
    "execution": {
     "iopub.execute_input": "2023-02-08T15:58:22.049039Z",
     "iopub.status.busy": "2023-02-08T15:58:22.048618Z",
     "iopub.status.idle": "2023-02-08T15:58:22.120651Z",
     "shell.execute_reply": "2023-02-08T15:58:22.119787Z",
     "shell.execute_reply.started": "2023-02-08T15:58:22.049009Z"
    },
    "tags": []
   },
   "outputs": [
    {
     "data": {
      "text/html": [
       "<pre style=\"white-space:pre;overflow-x:auto;line-height:normal;font-family:Menlo,'DejaVu Sans Mono',consolas,'Courier New',monospace\"><span style=\"color: #008000; text-decoration-color: #008000\">'California College of the Arts'</span>,\n",
       "</pre>\n"
      ],
      "text/plain": [
       "\u001b[32m'California College of the Arts'\u001b[0m,\n"
      ]
     },
     "metadata": {},
     "output_type": "display_data"
    },
    {
     "data": {
      "text/html": [
       "<pre style=\"white-space:pre;overflow-x:auto;line-height:normal;font-family:Menlo,'DejaVu Sans Mono',consolas,'Courier New',monospace\"><span style=\"color: #008000; text-decoration-color: #008000\">'Columbia University'</span>,\n",
       "</pre>\n"
      ],
      "text/plain": [
       "\u001b[32m'Columbia University'\u001b[0m,\n"
      ]
     },
     "metadata": {},
     "output_type": "display_data"
    },
    {
     "data": {
      "text/html": [
       "<pre style=\"white-space:pre;overflow-x:auto;line-height:normal;font-family:Menlo,'DejaVu Sans Mono',consolas,'Courier New',monospace\"><span style=\"color: #008000; text-decoration-color: #008000\">'Durham University'</span>,\n",
       "</pre>\n"
      ],
      "text/plain": [
       "\u001b[32m'Durham University'\u001b[0m,\n"
      ]
     },
     "metadata": {},
     "output_type": "display_data"
    },
    {
     "data": {
      "text/html": [
       "<pre style=\"white-space:pre;overflow-x:auto;line-height:normal;font-family:Menlo,'DejaVu Sans Mono',consolas,'Courier New',monospace\"><span style=\"color: #008000; text-decoration-color: #008000\">'Imperial College London x4'</span>,\n",
       "</pre>\n"
      ],
      "text/plain": [
       "\u001b[32m'Imperial College London x4'\u001b[0m,\n"
      ]
     },
     "metadata": {},
     "output_type": "display_data"
    },
    {
     "data": {
      "text/html": [
       "<pre style=\"white-space:pre;overflow-x:auto;line-height:normal;font-family:Menlo,'DejaVu Sans Mono',consolas,'Courier New',monospace\"><span style=\"color: #008000; text-decoration-color: #008000\">\"King's College London\"</span>,\n",
       "</pre>\n"
      ],
      "text/plain": [
       "\u001b[32m\"King's College London\"\u001b[0m,\n"
      ]
     },
     "metadata": {},
     "output_type": "display_data"
    },
    {
     "data": {
      "text/html": [
       "<pre style=\"white-space:pre;overflow-x:auto;line-height:normal;font-family:Menlo,'DejaVu Sans Mono',consolas,'Courier New',monospace\"><span style=\"color: #008000; text-decoration-color: #008000\">'Kingston University London x2'</span>,\n",
       "</pre>\n"
      ],
      "text/plain": [
       "\u001b[32m'Kingston University London x2'\u001b[0m,\n"
      ]
     },
     "metadata": {},
     "output_type": "display_data"
    },
    {
     "data": {
      "text/html": [
       "<pre style=\"white-space:pre;overflow-x:auto;line-height:normal;font-family:Menlo,'DejaVu Sans Mono',consolas,'Courier New',monospace\"><span style=\"color: #008000; text-decoration-color: #008000\">'Kyushu University'</span>,\n",
       "</pre>\n"
      ],
      "text/plain": [
       "\u001b[32m'Kyushu University'\u001b[0m,\n"
      ]
     },
     "metadata": {},
     "output_type": "display_data"
    },
    {
     "data": {
      "text/html": [
       "<pre style=\"white-space:pre;overflow-x:auto;line-height:normal;font-family:Menlo,'DejaVu Sans Mono',consolas,'Courier New',monospace\"><span style=\"color: #008000; text-decoration-color: #008000\">'Leiden University'</span>,\n",
       "</pre>\n"
      ],
      "text/plain": [
       "\u001b[32m'Leiden University'\u001b[0m,\n"
      ]
     },
     "metadata": {},
     "output_type": "display_data"
    },
    {
     "data": {
      "text/html": [
       "<pre style=\"white-space:pre;overflow-x:auto;line-height:normal;font-family:Menlo,'DejaVu Sans Mono',consolas,'Courier New',monospace\"><span style=\"color: #008000; text-decoration-color: #008000\">'Liverpool Hope University'</span>,\n",
       "</pre>\n"
      ],
      "text/plain": [
       "\u001b[32m'Liverpool Hope University'\u001b[0m,\n"
      ]
     },
     "metadata": {},
     "output_type": "display_data"
    },
    {
     "data": {
      "text/html": [
       "<pre style=\"white-space:pre;overflow-x:auto;line-height:normal;font-family:Menlo,'DejaVu Sans Mono',consolas,'Courier New',monospace\"><span style=\"color: #008000; text-decoration-color: #008000\">'London School of Economics  x4'</span>,\n",
       "</pre>\n"
      ],
      "text/plain": [
       "\u001b[32m'London School of Economics  x4'\u001b[0m,\n"
      ]
     },
     "metadata": {},
     "output_type": "display_data"
    },
    {
     "data": {
      "text/html": [
       "<pre style=\"white-space:pre;overflow-x:auto;line-height:normal;font-family:Menlo,'DejaVu Sans Mono',consolas,'Courier New',monospace\"><span style=\"color: #008000; text-decoration-color: #008000\">'Maastricht University'</span>,\n",
       "</pre>\n"
      ],
      "text/plain": [
       "\u001b[32m'Maastricht University'\u001b[0m,\n"
      ]
     },
     "metadata": {},
     "output_type": "display_data"
    },
    {
     "data": {
      "text/html": [
       "<pre style=\"white-space:pre;overflow-x:auto;line-height:normal;font-family:Menlo,'DejaVu Sans Mono',consolas,'Courier New',monospace\"><span style=\"color: #008000; text-decoration-color: #008000\">'Michigan State University'</span>,\n",
       "</pre>\n"
      ],
      "text/plain": [
       "\u001b[32m'Michigan State University'\u001b[0m,\n"
      ]
     },
     "metadata": {},
     "output_type": "display_data"
    },
    {
     "data": {
      "text/html": [
       "<pre style=\"white-space:pre;overflow-x:auto;line-height:normal;font-family:Menlo,'DejaVu Sans Mono',consolas,'Courier New',monospace\"><span style=\"color: #008000; text-decoration-color: #008000\">'Nottingham Trent University'</span>,\n",
       "</pre>\n"
      ],
      "text/plain": [
       "\u001b[32m'Nottingham Trent University'\u001b[0m,\n"
      ]
     },
     "metadata": {},
     "output_type": "display_data"
    },
    {
     "data": {
      "text/html": [
       "<pre style=\"white-space:pre;overflow-x:auto;line-height:normal;font-family:Menlo,'DejaVu Sans Mono',consolas,'Courier New',monospace\"><span style=\"color: #008000; text-decoration-color: #008000\">'Ritsumeikan University'</span>,\n",
       "</pre>\n"
      ],
      "text/plain": [
       "\u001b[32m'Ritsumeikan University'\u001b[0m,\n"
      ]
     },
     "metadata": {},
     "output_type": "display_data"
    },
    {
     "data": {
      "text/html": [
       "<pre style=\"white-space:pre;overflow-x:auto;line-height:normal;font-family:Menlo,'DejaVu Sans Mono',consolas,'Courier New',monospace\"><span style=\"color: #008000; text-decoration-color: #008000\">''</span>,\n",
       "</pre>\n"
      ],
      "text/plain": [
       "\u001b[32m''\u001b[0m,\n"
      ]
     },
     "metadata": {},
     "output_type": "display_data"
    },
    {
     "data": {
      "text/html": [
       "<pre style=\"white-space:pre;overflow-x:auto;line-height:normal;font-family:Menlo,'DejaVu Sans Mono',consolas,'Courier New',monospace\"><span style=\"color: #008000; text-decoration-color: #008000\">'Smith College'</span>,\n",
       "</pre>\n"
      ],
      "text/plain": [
       "\u001b[32m'Smith College'\u001b[0m,\n"
      ]
     },
     "metadata": {},
     "output_type": "display_data"
    },
    {
     "data": {
      "text/html": [
       "<pre style=\"white-space:pre;overflow-x:auto;line-height:normal;font-family:Menlo,'DejaVu Sans Mono',consolas,'Courier New',monospace\"><span style=\"color: #008000; text-decoration-color: #008000\">'The University of British Columbia x2'</span>,\n",
       "</pre>\n"
      ],
      "text/plain": [
       "\u001b[32m'The University of British Columbia x2'\u001b[0m,\n"
      ]
     },
     "metadata": {},
     "output_type": "display_data"
    },
    {
     "data": {
      "text/html": [
       "<pre style=\"white-space:pre;overflow-x:auto;line-height:normal;font-family:Menlo,'DejaVu Sans Mono',consolas,'Courier New',monospace\"><span style=\"color: #008000; text-decoration-color: #008000\">'The University of Sheffield'</span>,\n",
       "</pre>\n"
      ],
      "text/plain": [
       "\u001b[32m'The University of Sheffield'\u001b[0m,\n"
      ]
     },
     "metadata": {},
     "output_type": "display_data"
    },
    {
     "data": {
      "text/html": [
       "<pre style=\"white-space:pre;overflow-x:auto;line-height:normal;font-family:Menlo,'DejaVu Sans Mono',consolas,'Courier New',monospace\"><span style=\"color: #008000; text-decoration-color: #008000\">'University College London x2'</span>,\n",
       "</pre>\n"
      ],
      "text/plain": [
       "\u001b[32m'University College London x2'\u001b[0m,\n"
      ]
     },
     "metadata": {},
     "output_type": "display_data"
    },
    {
     "data": {
      "text/html": [
       "<pre style=\"white-space:pre;overflow-x:auto;line-height:normal;font-family:Menlo,'DejaVu Sans Mono',consolas,'Courier New',monospace\"><span style=\"color: #008000; text-decoration-color: #008000\">'United International Business Schools'</span>,\n",
       "</pre>\n"
      ],
      "text/plain": [
       "\u001b[32m'United International Business Schools'\u001b[0m,\n"
      ]
     },
     "metadata": {},
     "output_type": "display_data"
    },
    {
     "data": {
      "text/html": [
       "<pre style=\"white-space:pre;overflow-x:auto;line-height:normal;font-family:Menlo,'DejaVu Sans Mono',consolas,'Courier New',monospace\"><span style=\"color: #008000; text-decoration-color: #008000\">'University of Birmingham'</span>,\n",
       "</pre>\n"
      ],
      "text/plain": [
       "\u001b[32m'University of Birmingham'\u001b[0m,\n"
      ]
     },
     "metadata": {},
     "output_type": "display_data"
    },
    {
     "data": {
      "text/html": [
       "<pre style=\"white-space:pre;overflow-x:auto;line-height:normal;font-family:Menlo,'DejaVu Sans Mono',consolas,'Courier New',monospace\"><span style=\"color: #008000; text-decoration-color: #008000\">'University of Oxford'</span>,\n",
       "</pre>\n"
      ],
      "text/plain": [
       "\u001b[32m'University of Oxford'\u001b[0m,\n"
      ]
     },
     "metadata": {},
     "output_type": "display_data"
    },
    {
     "data": {
      "text/html": [
       "<pre style=\"white-space:pre;overflow-x:auto;line-height:normal;font-family:Menlo,'DejaVu Sans Mono',consolas,'Courier New',monospace\"><span style=\"color: #008000; text-decoration-color: #008000\">'University of Southampton'</span>,\n",
       "</pre>\n"
      ],
      "text/plain": [
       "\u001b[32m'University of Southampton'\u001b[0m,\n"
      ]
     },
     "metadata": {},
     "output_type": "display_data"
    },
    {
     "data": {
      "text/html": [
       "<pre style=\"white-space:pre;overflow-x:auto;line-height:normal;font-family:Menlo,'DejaVu Sans Mono',consolas,'Courier New',monospace\"><span style=\"color: #008000; text-decoration-color: #008000\">'University of the Arts London'</span>,\n",
       "</pre>\n"
      ],
      "text/plain": [
       "\u001b[32m'University of the Arts London'\u001b[0m,\n"
      ]
     },
     "metadata": {},
     "output_type": "display_data"
    },
    {
     "data": {
      "text/html": [
       "<pre style=\"white-space:pre;overflow-x:auto;line-height:normal;font-family:Menlo,'DejaVu Sans Mono',consolas,'Courier New',monospace\"><span style=\"color: #008000; text-decoration-color: #008000\">'University of Toronto'</span>,\n",
       "</pre>\n"
      ],
      "text/plain": [
       "\u001b[32m'University of Toronto'\u001b[0m,\n"
      ]
     },
     "metadata": {},
     "output_type": "display_data"
    },
    {
     "data": {
      "text/html": [
       "<pre style=\"white-space:pre;overflow-x:auto;line-height:normal;font-family:Menlo,'DejaVu Sans Mono',consolas,'Courier New',monospace\"><span style=\"color: #008000; text-decoration-color: #008000\">'University of Toronto Scarborough'</span>,\n",
       "</pre>\n"
      ],
      "text/plain": [
       "\u001b[32m'University of Toronto Scarborough'\u001b[0m,\n"
      ]
     },
     "metadata": {},
     "output_type": "display_data"
    },
    {
     "data": {
      "text/html": [
       "<pre style=\"white-space:pre;overflow-x:auto;line-height:normal;font-family:Menlo,'DejaVu Sans Mono',consolas,'Courier New',monospace\"><span style=\"color: #008000; text-decoration-color: #008000\">'University of Waterloo'</span>,\n",
       "</pre>\n"
      ],
      "text/plain": [
       "\u001b[32m'University of Waterloo'\u001b[0m,\n"
      ]
     },
     "metadata": {},
     "output_type": "display_data"
    },
    {
     "data": {
      "text/html": [
       "<pre style=\"white-space:pre;overflow-x:auto;line-height:normal;font-family:Menlo,'DejaVu Sans Mono',consolas,'Courier New',monospace\"><span style=\"color: #008000; text-decoration-color: #008000\">'University of Westminster'</span>,\n",
       "</pre>\n"
      ],
      "text/plain": [
       "\u001b[32m'University of Westminster'\u001b[0m,\n"
      ]
     },
     "metadata": {},
     "output_type": "display_data"
    },
    {
     "data": {
      "text/html": [
       "<pre style=\"white-space:pre;overflow-x:auto;line-height:normal;font-family:Menlo,'DejaVu Sans Mono',consolas,'Courier New',monospace\"><span style=\"color: #008000; text-decoration-color: #008000\">'Utrecht University'</span>,\n",
       "</pre>\n"
      ],
      "text/plain": [
       "\u001b[32m'Utrecht University'\u001b[0m,\n"
      ]
     },
     "metadata": {},
     "output_type": "display_data"
    }
   ],
   "source": [
    "from utilities.re import *\n",
    "\n",
    "for line in x.strip(\"\\n\").splitlines():\n",
    "    if not search(r\"^\\-\", line):\n",
    "        try:\n",
    "            match = extract_group(r\"\"\"^(['\\-\\w ]+), .*\"\"\", line)\n",
    "            print(f\"{match!r},\")\n",
    "        except NoMatchesError:\n",
    "            try:\n",
    "                match = extract_group(r\"\"\"^(['\\-\\w ]+) \\(.*\"\"\", line)\n",
    "                print(f\"{match!r},\")\n",
    "            except NoMatchesError:\n",
    "                print(f\"{line!r},\")"
   ]
  },
  {
   "cell_type": "code",
   "execution_count": 33,
   "id": "4dfa00d8-fdad-4afa-b851-9b3076cf5e20",
   "metadata": {
    "execution": {
     "iopub.execute_input": "2023-02-08T15:58:26.766701Z",
     "iopub.status.busy": "2023-02-08T15:58:26.766342Z",
     "iopub.status.idle": "2023-02-08T15:58:26.788975Z",
     "shell.execute_reply": "2023-02-08T15:58:26.788041Z",
     "shell.execute_reply.started": "2023-02-08T15:58:26.766670Z"
    },
    "tags": []
   },
   "outputs": [],
   "source": [
    "x = \"\"\"\n",
    "California College of the Arts\n",
    "Columbia University\n",
    "Durham University\n",
    "Imperial College London x4\n",
    "King's College London\n",
    "Kingston University London x2\n",
    "Kyushu University\n",
    "Leiden University\n",
    "Liverpool Hope University\n",
    "London School of Economics  x4\n",
    "Maastricht University\n",
    "Michigan State University\n",
    "Nottingham Trent University\n",
    "Ritsumeikan University\n",
    "\n",
    "Smith College\n",
    "The University of British Columbia x2\n",
    "The University of Sheffield\n",
    "University College London x2\n",
    "United International Business Schools, Amsterdam\n",
    "University of Birmingham\n",
    "University of Oxford\n",
    "University of Southampton\n",
    "University of the Arts London\n",
    "University of Toronto\n",
    "University of Toronto Scarborough\n",
    "University of Waterloo\n",
    "University of Westminster\n",
    "Utrecht University\n",
    "\"\"\"\n",
    "x = x.replace(\"’\", \"'\")\n",
    "x = x.strip(\"\\n\")"
   ]
  },
  {
   "cell_type": "code",
   "execution_count": null,
   "id": "885bc2f6-f033-424d-9cbd-75e00676a624",
   "metadata": {},
   "outputs": [],
   "source": [
    "from utilities.re import *\n",
    "\n",
    "for line in x.strip(\"\\n\").splitlines():\n",
    "    try:\n",
    "        match = extract_group(r\"\"\"^(['\\-\\w ]+)( x\\d+)?\"\"\", line)\n",
    "        print(f\"{match!r},\")\n",
    "    except NoMatchesError:\n",
    "        print(f\"{line!r},\")"
   ]
  }
 ],
 "metadata": {
  "kernelspec": {
   "display_name": "Python 3 (ipykernel)",
   "language": "python",
   "name": "python3"
  },
  "language_info": {
   "codemirror_mode": {
    "name": "ipython",
    "version": 3
   },
   "file_extension": ".py",
   "mimetype": "text/x-python",
   "name": "python",
   "nbconvert_exporter": "python",
   "pygments_lexer": "ipython3",
   "version": "3.11.1"
  }
 },
 "nbformat": 4,
 "nbformat_minor": 5
}
